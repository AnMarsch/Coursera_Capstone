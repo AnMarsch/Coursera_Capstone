{
    "cells": [
        {
            "metadata": {
                "collapsed": true
            },
            "cell_type": "markdown",
            "source": "# This is part 1 of the Assignment Week 3"
        },
        {
            "metadata": {},
            "cell_type": "markdown",
            "source": "###### scraping the data from wikipedia"
        },
        {
            "metadata": {},
            "cell_type": "code",
            "source": "# import libraries\nimport requests\nimport lxml.html as lh\nimport pandas as pd",
            "execution_count": 2,
            "outputs": []
        },
        {
            "metadata": {},
            "cell_type": "code",
            "source": "#get table from the wikipedia page\n\n#define url\nurl='https://en.wikipedia.org/wiki/List_of_postal_codes_of_Canada:_M'\n#Create a handle, page, to handle the contents of the website\npage = requests.get(url)\n#Store the contents of the website under doc\ndoc = lh.fromstring(page.content)\n#Parse data that are stored between <tr>..</tr> of HTML\ntr_elements = doc.xpath('//tr')",
            "execution_count": 3,
            "outputs": []
        },
        {
            "metadata": {},
            "cell_type": "code",
            "source": "#Check the length of the first 12 rows\n[len(T) for T in tr_elements[:12]]",
            "execution_count": 4,
            "outputs": [
                {
                    "output_type": "execute_result",
                    "execution_count": 4,
                    "data": {
                        "text/plain": "[3, 3, 3, 3, 3, 3, 3, 3, 3, 3, 3, 3]"
                    },
                    "metadata": {}
                }
            ]
        },
        {
            "metadata": {},
            "cell_type": "code",
            "source": "tr_elements = doc.xpath('//tr')\n#Create empty list\ncol=[]\ni=0\n#For each row, store each first element (header) and an empty list\nfor t in tr_elements[0]:\n    i+=1\n    name=t.text_content()\n    #print '%d:\"%s\"'%(i,name)\n    col.append((name,[]))",
            "execution_count": 6,
            "outputs": []
        },
        {
            "metadata": {},
            "cell_type": "code",
            "source": "#preparation for creating the pandas dataframe\n\n#Since out first row is the header, data is stored on the second row onwards\nfor j in range(1,len(tr_elements)):\n    #T is our j'th row\n    T=tr_elements[j]\n    \n    #If row is not of size 3, the //tr data is not from our table \n    if len(T)!=3:\n        break\n    \n    #i is the index of our column\n    i=0\n    \n    #Iterate through each element of the row\n    for t in T.iterchildren():\n        data=t.text_content() \n        #Check if row is empty\n        if i>0:\n        #Convert any numerical value to integers\n            try:\n                data=int(data)\n            except:\n                pass\n        #Append the data to the empty list of the i'th column\n        col[i][1].append(data)\n        #Increment i for the next column\n        i+=1",
            "execution_count": 10,
            "outputs": []
        },
        {
            "metadata": {},
            "cell_type": "code",
            "source": "#check length\n[len(C) for (title,C) in col]",
            "execution_count": 9,
            "outputs": [
                {
                    "output_type": "execute_result",
                    "execution_count": 9,
                    "data": {
                        "text/plain": "[181, 181, 181]"
                    },
                    "metadata": {}
                }
            ]
        },
        {
            "metadata": {},
            "cell_type": "code",
            "source": "#create the pandas dataframe\n\nDict={title:column for (title,column) in col}\ndf=pd.DataFrame(Dict)",
            "execution_count": 11,
            "outputs": []
        },
        {
            "metadata": {},
            "cell_type": "code",
            "source": "df.shape",
            "execution_count": 19,
            "outputs": [
                {
                    "output_type": "execute_result",
                    "execution_count": 19,
                    "data": {
                        "text/plain": "(362, 3)"
                    },
                    "metadata": {}
                }
            ]
        },
        {
            "metadata": {},
            "cell_type": "code",
            "source": "df.head(10)",
            "execution_count": 20,
            "outputs": [
                {
                    "output_type": "execute_result",
                    "execution_count": 20,
                    "data": {
                        "text/plain": "  Postal code\\n           Borough\\n  \\\n0         M1A\\n      Not assigned\\n   \n1         M2A\\n      Not assigned\\n   \n2         M3A\\n        North York\\n   \n3         M4A\\n        North York\\n   \n4         M5A\\n  Downtown Toronto\\n   \n5         M6A\\n        North York\\n   \n6         M7A\\n  Downtown Toronto\\n   \n7         M8A\\n      Not assigned\\n   \n8         M9A\\n         Etobicoke\\n   \n9         M1B\\n       Scarborough\\n   \n\n                                   Neighborhood\\n  \n0                                              \\n  \n1                                              \\n  \n2                                     Parkwoods\\n  \n3                              Victoria Village\\n  \n4                    Regent Park / Harbourfront\\n  \n5             Lawrence Manor / Lawrence Heights\\n  \n6  Queen's Park / Ontario Provincial Government\\n  \n7                                              \\n  \n8                              Islington Avenue\\n  \n9                               Malvern / Rouge\\n  ",
                        "text/html": "<div>\n<style scoped>\n    .dataframe tbody tr th:only-of-type {\n        vertical-align: middle;\n    }\n\n    .dataframe tbody tr th {\n        vertical-align: top;\n    }\n\n    .dataframe thead th {\n        text-align: right;\n    }\n</style>\n<table border=\"1\" class=\"dataframe\">\n  <thead>\n    <tr style=\"text-align: right;\">\n      <th></th>\n      <th>Postal code</th>\n      <th>Borough</th>\n      <th>Neighborhood</th>\n    </tr>\n  </thead>\n  <tbody>\n    <tr>\n      <th>0</th>\n      <td>M1A\\n</td>\n      <td>Not assigned\\n</td>\n      <td>\\n</td>\n    </tr>\n    <tr>\n      <th>1</th>\n      <td>M2A\\n</td>\n      <td>Not assigned\\n</td>\n      <td>\\n</td>\n    </tr>\n    <tr>\n      <th>2</th>\n      <td>M3A\\n</td>\n      <td>North York\\n</td>\n      <td>Parkwoods\\n</td>\n    </tr>\n    <tr>\n      <th>3</th>\n      <td>M4A\\n</td>\n      <td>North York\\n</td>\n      <td>Victoria Village\\n</td>\n    </tr>\n    <tr>\n      <th>4</th>\n      <td>M5A\\n</td>\n      <td>Downtown Toronto\\n</td>\n      <td>Regent Park / Harbourfront\\n</td>\n    </tr>\n    <tr>\n      <th>5</th>\n      <td>M6A\\n</td>\n      <td>North York\\n</td>\n      <td>Lawrence Manor / Lawrence Heights\\n</td>\n    </tr>\n    <tr>\n      <th>6</th>\n      <td>M7A\\n</td>\n      <td>Downtown Toronto\\n</td>\n      <td>Queen's Park / Ontario Provincial Government\\n</td>\n    </tr>\n    <tr>\n      <th>7</th>\n      <td>M8A\\n</td>\n      <td>Not assigned\\n</td>\n      <td>\\n</td>\n    </tr>\n    <tr>\n      <th>8</th>\n      <td>M9A\\n</td>\n      <td>Etobicoke\\n</td>\n      <td>Islington Avenue\\n</td>\n    </tr>\n    <tr>\n      <th>9</th>\n      <td>M1B\\n</td>\n      <td>Scarborough\\n</td>\n      <td>Malvern / Rouge\\n</td>\n    </tr>\n  </tbody>\n</table>\n</div>"
                    },
                    "metadata": {}
                }
            ]
        },
        {
            "metadata": {},
            "cell_type": "code",
            "source": "df.dtypes",
            "execution_count": 26,
            "outputs": [
                {
                    "output_type": "execute_result",
                    "execution_count": 26,
                    "data": {
                        "text/plain": "Postal code\\n     object\nBorough\\n         object\nNeighborhood\\n    object\ndtype: object"
                    },
                    "metadata": {}
                }
            ]
        },
        {
            "metadata": {},
            "cell_type": "code",
            "source": "df.describe()",
            "execution_count": 28,
            "outputs": [
                {
                    "output_type": "execute_result",
                    "execution_count": 28,
                    "data": {
                        "text/plain": "       Postal code\\n       Borough\\n Neighborhood\\n\ncount            362             362            362\nunique           181              12             99\ntop            M9W\\n  Not assigned\\n             \\n\nfreq               2             154            156",
                        "text/html": "<div>\n<style scoped>\n    .dataframe tbody tr th:only-of-type {\n        vertical-align: middle;\n    }\n\n    .dataframe tbody tr th {\n        vertical-align: top;\n    }\n\n    .dataframe thead th {\n        text-align: right;\n    }\n</style>\n<table border=\"1\" class=\"dataframe\">\n  <thead>\n    <tr style=\"text-align: right;\">\n      <th></th>\n      <th>Postal code</th>\n      <th>Borough</th>\n      <th>Neighborhood</th>\n    </tr>\n  </thead>\n  <tbody>\n    <tr>\n      <th>count</th>\n      <td>362</td>\n      <td>362</td>\n      <td>362</td>\n    </tr>\n    <tr>\n      <th>unique</th>\n      <td>181</td>\n      <td>12</td>\n      <td>99</td>\n    </tr>\n    <tr>\n      <th>top</th>\n      <td>M9W\\n</td>\n      <td>Not assigned\\n</td>\n      <td>\\n</td>\n    </tr>\n    <tr>\n      <th>freq</th>\n      <td>2</td>\n      <td>154</td>\n      <td>156</td>\n    </tr>\n  </tbody>\n</table>\n</div>"
                    },
                    "metadata": {}
                }
            ]
        },
        {
            "metadata": {},
            "cell_type": "markdown",
            "source": "###### cleaning up the data"
        },
        {
            "metadata": {},
            "cell_type": "code",
            "source": "df.describe()",
            "execution_count": 16,
            "outputs": [
                {
                    "output_type": "execute_result",
                    "execution_count": 16,
                    "data": {
                        "text/plain": "       Postal code\\n       Borough\\n Neighborhood\\n\ncount            362             362            362\nunique           181              12             99\ntop            M9W\\n  Not assigned\\n             \\n\nfreq               2             154            156",
                        "text/html": "<div>\n<style scoped>\n    .dataframe tbody tr th:only-of-type {\n        vertical-align: middle;\n    }\n\n    .dataframe tbody tr th {\n        vertical-align: top;\n    }\n\n    .dataframe thead th {\n        text-align: right;\n    }\n</style>\n<table border=\"1\" class=\"dataframe\">\n  <thead>\n    <tr style=\"text-align: right;\">\n      <th></th>\n      <th>Postal code</th>\n      <th>Borough</th>\n      <th>Neighborhood</th>\n    </tr>\n  </thead>\n  <tbody>\n    <tr>\n      <th>count</th>\n      <td>362</td>\n      <td>362</td>\n      <td>362</td>\n    </tr>\n    <tr>\n      <th>unique</th>\n      <td>181</td>\n      <td>12</td>\n      <td>99</td>\n    </tr>\n    <tr>\n      <th>top</th>\n      <td>M9W\\n</td>\n      <td>Not assigned\\n</td>\n      <td>\\n</td>\n    </tr>\n    <tr>\n      <th>freq</th>\n      <td>2</td>\n      <td>154</td>\n      <td>156</td>\n    </tr>\n  </tbody>\n</table>\n</div>"
                    },
                    "metadata": {}
                }
            ]
        },
        {
            "metadata": {},
            "cell_type": "code",
            "source": "tab = df",
            "execution_count": 29,
            "outputs": []
        },
        {
            "metadata": {},
            "cell_type": "code",
            "source": "tab.replace(\"\\\\\\n\", \"\", inplace = True)",
            "execution_count": 40,
            "outputs": []
        },
        {
            "metadata": {},
            "cell_type": "code",
            "source": "tab",
            "execution_count": 41,
            "outputs": [
                {
                    "output_type": "execute_result",
                    "execution_count": 41,
                    "data": {
                        "text/plain": "    Postal code\\n                Borough\\n  \\\n0           M1A\\n           Not assigned\\n   \n1           M2A\\n           Not assigned\\n   \n2           M3A\\n             North York\\n   \n3           M4A\\n             North York\\n   \n4           M5A\\n       Downtown Toronto\\n   \n5           M6A\\n             North York\\n   \n6           M7A\\n       Downtown Toronto\\n   \n7           M8A\\n           Not assigned\\n   \n8           M9A\\n              Etobicoke\\n   \n9           M1B\\n            Scarborough\\n   \n10          M2B\\n           Not assigned\\n   \n11          M3B\\n             North York\\n   \n12          M4B\\n              East York\\n   \n13          M5B\\n       Downtown Toronto\\n   \n14          M6B\\n             North York\\n   \n15          M7B\\n           Not assigned\\n   \n16          M8B\\n           Not assigned\\n   \n17          M9B\\n              Etobicoke\\n   \n18          M1C\\n            Scarborough\\n   \n19          M2C\\n           Not assigned\\n   \n20          M3C\\n             North York\\n   \n21          M4C\\n              East York\\n   \n22          M5C\\n       Downtown Toronto\\n   \n23          M6C\\n                   York\\n   \n24          M7C\\n           Not assigned\\n   \n25          M8C\\n           Not assigned\\n   \n26          M9C\\n              Etobicoke\\n   \n27          M1E\\n            Scarborough\\n   \n28          M2E\\n           Not assigned\\n   \n29          M3E\\n           Not assigned\\n   \n..            ...                      ...   \n332         M8W\\n              Etobicoke\\n   \n333         M9W\\n              Etobicoke\\n   \n334         M1X\\n            Scarborough\\n   \n335         M2X\\n           Not assigned\\n   \n336         M3X\\n           Not assigned\\n   \n337         M4X\\n       Downtown Toronto\\n   \n338         M5X\\n       Downtown Toronto\\n   \n339         M6X\\n           Not assigned\\n   \n340         M7X\\n           Not assigned\\n   \n341         M8X\\n              Etobicoke\\n   \n342         M9X\\n           Not assigned\\n   \n343         M1Y\\n           Not assigned\\n   \n344         M2Y\\n           Not assigned\\n   \n345         M3Y\\n           Not assigned\\n   \n346         M4Y\\n       Downtown Toronto\\n   \n347         M5Y\\n           Not assigned\\n   \n348         M6Y\\n           Not assigned\\n   \n349         M7Y\\n           East Toronto\\n   \n350         M8Y\\n              Etobicoke\\n   \n351         M9Y\\n           Not assigned\\n   \n352         M1Z\\n           Not assigned\\n   \n353         M2Z\\n           Not assigned\\n   \n354         M3Z\\n           Not assigned\\n   \n355         M4Z\\n           Not assigned\\n   \n356         M5Z\\n           Not assigned\\n   \n357         M6Z\\n           Not assigned\\n   \n358         M7Z\\n           Not assigned\\n   \n359         M8Z\\n              Etobicoke\\n   \n360         M9Z\\n           Not assigned\\n   \n361                Canadian postal codes\\n   \n\n                                        Neighborhood\\n  \n0                                                       \n1                                                       \n2                                          Parkwoods\\n  \n3                                   Victoria Village\\n  \n4                         Regent Park / Harbourfront\\n  \n5                  Lawrence Manor / Lawrence Heights\\n  \n6       Queen's Park / Ontario Provincial Government\\n  \n7                                                       \n8                                   Islington Avenue\\n  \n9                                    Malvern / Rouge\\n  \n10                                                      \n11                                         Don Mills\\n  \n12                  Parkview Hill / Woodbine Gardens\\n  \n13                          Garden District, Ryerson\\n  \n14                                         Glencairn\\n  \n15                                                      \n16                                                      \n17   West Deane Park / Princess Gardens / Martin Gr...  \n18          Rouge Hill / Port Union / Highland Creek\\n  \n19                                                      \n20                                         Don Mills\\n  \n21                                  Woodbine Heights\\n  \n22                                    St. James Town\\n  \n23                                Humewood-Cedarvale\\n  \n24                                                      \n25                                                      \n26   Eringate / Bloordale Gardens / Old Burnhamthor...  \n27               Guildwood / Morningside / West Hill\\n  \n28                                                      \n29                                                      \n..                                                 ...  \n332                          Alderwood / Long Branch\\n  \n333                                        Northwest\\n  \n334                                      Upper Rouge\\n  \n335                                                     \n336                                                     \n337                     St. James Town / Cabbagetown\\n  \n338          First Canadian Place / Underground city\\n  \n339                                                     \n340                                                     \n341  The Kingsway / Montgomery Road  / Old Mill Nor...  \n342                                                     \n343                                                     \n344                                                     \n345                                                     \n346                             Church and Wellesley\\n  \n347                                                     \n348                                                     \n349            Business reply mail Processing CentrE\\n  \n350  Old Mill South / King's Mill Park / Sunnylea /...  \n351                                                     \n352                                                     \n353                                                     \n354                                                     \n355                                                     \n356                                                     \n357                                                     \n358                                                     \n359  Mimico NW / The Queensway West / South of Bloo...  \n360                                                     \n361                                                     \n\n[362 rows x 3 columns]",
                        "text/html": "<div>\n<style scoped>\n    .dataframe tbody tr th:only-of-type {\n        vertical-align: middle;\n    }\n\n    .dataframe tbody tr th {\n        vertical-align: top;\n    }\n\n    .dataframe thead th {\n        text-align: right;\n    }\n</style>\n<table border=\"1\" class=\"dataframe\">\n  <thead>\n    <tr style=\"text-align: right;\">\n      <th></th>\n      <th>Postal code</th>\n      <th>Borough</th>\n      <th>Neighborhood</th>\n    </tr>\n  </thead>\n  <tbody>\n    <tr>\n      <th>0</th>\n      <td>M1A\\n</td>\n      <td>Not assigned\\n</td>\n      <td></td>\n    </tr>\n    <tr>\n      <th>1</th>\n      <td>M2A\\n</td>\n      <td>Not assigned\\n</td>\n      <td></td>\n    </tr>\n    <tr>\n      <th>2</th>\n      <td>M3A\\n</td>\n      <td>North York\\n</td>\n      <td>Parkwoods\\n</td>\n    </tr>\n    <tr>\n      <th>3</th>\n      <td>M4A\\n</td>\n      <td>North York\\n</td>\n      <td>Victoria Village\\n</td>\n    </tr>\n    <tr>\n      <th>4</th>\n      <td>M5A\\n</td>\n      <td>Downtown Toronto\\n</td>\n      <td>Regent Park / Harbourfront\\n</td>\n    </tr>\n    <tr>\n      <th>5</th>\n      <td>M6A\\n</td>\n      <td>North York\\n</td>\n      <td>Lawrence Manor / Lawrence Heights\\n</td>\n    </tr>\n    <tr>\n      <th>6</th>\n      <td>M7A\\n</td>\n      <td>Downtown Toronto\\n</td>\n      <td>Queen's Park / Ontario Provincial Government\\n</td>\n    </tr>\n    <tr>\n      <th>7</th>\n      <td>M8A\\n</td>\n      <td>Not assigned\\n</td>\n      <td></td>\n    </tr>\n    <tr>\n      <th>8</th>\n      <td>M9A\\n</td>\n      <td>Etobicoke\\n</td>\n      <td>Islington Avenue\\n</td>\n    </tr>\n    <tr>\n      <th>9</th>\n      <td>M1B\\n</td>\n      <td>Scarborough\\n</td>\n      <td>Malvern / Rouge\\n</td>\n    </tr>\n    <tr>\n      <th>10</th>\n      <td>M2B\\n</td>\n      <td>Not assigned\\n</td>\n      <td></td>\n    </tr>\n    <tr>\n      <th>11</th>\n      <td>M3B\\n</td>\n      <td>North York\\n</td>\n      <td>Don Mills\\n</td>\n    </tr>\n    <tr>\n      <th>12</th>\n      <td>M4B\\n</td>\n      <td>East York\\n</td>\n      <td>Parkview Hill / Woodbine Gardens\\n</td>\n    </tr>\n    <tr>\n      <th>13</th>\n      <td>M5B\\n</td>\n      <td>Downtown Toronto\\n</td>\n      <td>Garden District, Ryerson\\n</td>\n    </tr>\n    <tr>\n      <th>14</th>\n      <td>M6B\\n</td>\n      <td>North York\\n</td>\n      <td>Glencairn\\n</td>\n    </tr>\n    <tr>\n      <th>15</th>\n      <td>M7B\\n</td>\n      <td>Not assigned\\n</td>\n      <td></td>\n    </tr>\n    <tr>\n      <th>16</th>\n      <td>M8B\\n</td>\n      <td>Not assigned\\n</td>\n      <td></td>\n    </tr>\n    <tr>\n      <th>17</th>\n      <td>M9B\\n</td>\n      <td>Etobicoke\\n</td>\n      <td>West Deane Park / Princess Gardens / Martin Gr...</td>\n    </tr>\n    <tr>\n      <th>18</th>\n      <td>M1C\\n</td>\n      <td>Scarborough\\n</td>\n      <td>Rouge Hill / Port Union / Highland Creek\\n</td>\n    </tr>\n    <tr>\n      <th>19</th>\n      <td>M2C\\n</td>\n      <td>Not assigned\\n</td>\n      <td></td>\n    </tr>\n    <tr>\n      <th>20</th>\n      <td>M3C\\n</td>\n      <td>North York\\n</td>\n      <td>Don Mills\\n</td>\n    </tr>\n    <tr>\n      <th>21</th>\n      <td>M4C\\n</td>\n      <td>East York\\n</td>\n      <td>Woodbine Heights\\n</td>\n    </tr>\n    <tr>\n      <th>22</th>\n      <td>M5C\\n</td>\n      <td>Downtown Toronto\\n</td>\n      <td>St. James Town\\n</td>\n    </tr>\n    <tr>\n      <th>23</th>\n      <td>M6C\\n</td>\n      <td>York\\n</td>\n      <td>Humewood-Cedarvale\\n</td>\n    </tr>\n    <tr>\n      <th>24</th>\n      <td>M7C\\n</td>\n      <td>Not assigned\\n</td>\n      <td></td>\n    </tr>\n    <tr>\n      <th>25</th>\n      <td>M8C\\n</td>\n      <td>Not assigned\\n</td>\n      <td></td>\n    </tr>\n    <tr>\n      <th>26</th>\n      <td>M9C\\n</td>\n      <td>Etobicoke\\n</td>\n      <td>Eringate / Bloordale Gardens / Old Burnhamthor...</td>\n    </tr>\n    <tr>\n      <th>27</th>\n      <td>M1E\\n</td>\n      <td>Scarborough\\n</td>\n      <td>Guildwood / Morningside / West Hill\\n</td>\n    </tr>\n    <tr>\n      <th>28</th>\n      <td>M2E\\n</td>\n      <td>Not assigned\\n</td>\n      <td></td>\n    </tr>\n    <tr>\n      <th>29</th>\n      <td>M3E\\n</td>\n      <td>Not assigned\\n</td>\n      <td></td>\n    </tr>\n    <tr>\n      <th>...</th>\n      <td>...</td>\n      <td>...</td>\n      <td>...</td>\n    </tr>\n    <tr>\n      <th>332</th>\n      <td>M8W\\n</td>\n      <td>Etobicoke\\n</td>\n      <td>Alderwood / Long Branch\\n</td>\n    </tr>\n    <tr>\n      <th>333</th>\n      <td>M9W\\n</td>\n      <td>Etobicoke\\n</td>\n      <td>Northwest\\n</td>\n    </tr>\n    <tr>\n      <th>334</th>\n      <td>M1X\\n</td>\n      <td>Scarborough\\n</td>\n      <td>Upper Rouge\\n</td>\n    </tr>\n    <tr>\n      <th>335</th>\n      <td>M2X\\n</td>\n      <td>Not assigned\\n</td>\n      <td></td>\n    </tr>\n    <tr>\n      <th>336</th>\n      <td>M3X\\n</td>\n      <td>Not assigned\\n</td>\n      <td></td>\n    </tr>\n    <tr>\n      <th>337</th>\n      <td>M4X\\n</td>\n      <td>Downtown Toronto\\n</td>\n      <td>St. James Town / Cabbagetown\\n</td>\n    </tr>\n    <tr>\n      <th>338</th>\n      <td>M5X\\n</td>\n      <td>Downtown Toronto\\n</td>\n      <td>First Canadian Place / Underground city\\n</td>\n    </tr>\n    <tr>\n      <th>339</th>\n      <td>M6X\\n</td>\n      <td>Not assigned\\n</td>\n      <td></td>\n    </tr>\n    <tr>\n      <th>340</th>\n      <td>M7X\\n</td>\n      <td>Not assigned\\n</td>\n      <td></td>\n    </tr>\n    <tr>\n      <th>341</th>\n      <td>M8X\\n</td>\n      <td>Etobicoke\\n</td>\n      <td>The Kingsway / Montgomery Road  / Old Mill Nor...</td>\n    </tr>\n    <tr>\n      <th>342</th>\n      <td>M9X\\n</td>\n      <td>Not assigned\\n</td>\n      <td></td>\n    </tr>\n    <tr>\n      <th>343</th>\n      <td>M1Y\\n</td>\n      <td>Not assigned\\n</td>\n      <td></td>\n    </tr>\n    <tr>\n      <th>344</th>\n      <td>M2Y\\n</td>\n      <td>Not assigned\\n</td>\n      <td></td>\n    </tr>\n    <tr>\n      <th>345</th>\n      <td>M3Y\\n</td>\n      <td>Not assigned\\n</td>\n      <td></td>\n    </tr>\n    <tr>\n      <th>346</th>\n      <td>M4Y\\n</td>\n      <td>Downtown Toronto\\n</td>\n      <td>Church and Wellesley\\n</td>\n    </tr>\n    <tr>\n      <th>347</th>\n      <td>M5Y\\n</td>\n      <td>Not assigned\\n</td>\n      <td></td>\n    </tr>\n    <tr>\n      <th>348</th>\n      <td>M6Y\\n</td>\n      <td>Not assigned\\n</td>\n      <td></td>\n    </tr>\n    <tr>\n      <th>349</th>\n      <td>M7Y\\n</td>\n      <td>East Toronto\\n</td>\n      <td>Business reply mail Processing CentrE\\n</td>\n    </tr>\n    <tr>\n      <th>350</th>\n      <td>M8Y\\n</td>\n      <td>Etobicoke\\n</td>\n      <td>Old Mill South / King's Mill Park / Sunnylea /...</td>\n    </tr>\n    <tr>\n      <th>351</th>\n      <td>M9Y\\n</td>\n      <td>Not assigned\\n</td>\n      <td></td>\n    </tr>\n    <tr>\n      <th>352</th>\n      <td>M1Z\\n</td>\n      <td>Not assigned\\n</td>\n      <td></td>\n    </tr>\n    <tr>\n      <th>353</th>\n      <td>M2Z\\n</td>\n      <td>Not assigned\\n</td>\n      <td></td>\n    </tr>\n    <tr>\n      <th>354</th>\n      <td>M3Z\\n</td>\n      <td>Not assigned\\n</td>\n      <td></td>\n    </tr>\n    <tr>\n      <th>355</th>\n      <td>M4Z\\n</td>\n      <td>Not assigned\\n</td>\n      <td></td>\n    </tr>\n    <tr>\n      <th>356</th>\n      <td>M5Z\\n</td>\n      <td>Not assigned\\n</td>\n      <td></td>\n    </tr>\n    <tr>\n      <th>357</th>\n      <td>M6Z\\n</td>\n      <td>Not assigned\\n</td>\n      <td></td>\n    </tr>\n    <tr>\n      <th>358</th>\n      <td>M7Z\\n</td>\n      <td>Not assigned\\n</td>\n      <td></td>\n    </tr>\n    <tr>\n      <th>359</th>\n      <td>M8Z\\n</td>\n      <td>Etobicoke\\n</td>\n      <td>Mimico NW / The Queensway West / South of Bloo...</td>\n    </tr>\n    <tr>\n      <th>360</th>\n      <td>M9Z\\n</td>\n      <td>Not assigned\\n</td>\n      <td></td>\n    </tr>\n    <tr>\n      <th>361</th>\n      <td></td>\n      <td>Canadian postal codes\\n</td>\n      <td></td>\n    </tr>\n  </tbody>\n</table>\n<p>362 rows \u00d7 3 columns</p>\n</div>"
                    },
                    "metadata": {}
                }
            ]
        },
        {
            "metadata": {},
            "cell_type": "code",
            "source": "# simply drop whole row with NaN in \"price\" column\ntab.dropna(subset=[\"Postal code\\n\"], axis=0, inplace=True)\n\n# reset index, because we droped two rows\ntab.reset_index(drop=True, inplace=True)",
            "execution_count": 44,
            "outputs": []
        },
        {
            "metadata": {},
            "cell_type": "code",
            "source": "tab",
            "execution_count": 45,
            "outputs": [
                {
                    "output_type": "execute_result",
                    "execution_count": 45,
                    "data": {
                        "text/plain": "    Postal code\\n                Borough\\n  \\\n0           M1A\\n           Not assigned\\n   \n1           M2A\\n           Not assigned\\n   \n2           M3A\\n             North York\\n   \n3           M4A\\n             North York\\n   \n4           M5A\\n       Downtown Toronto\\n   \n5           M6A\\n             North York\\n   \n6           M7A\\n       Downtown Toronto\\n   \n7           M8A\\n           Not assigned\\n   \n8           M9A\\n              Etobicoke\\n   \n9           M1B\\n            Scarborough\\n   \n10          M2B\\n           Not assigned\\n   \n11          M3B\\n             North York\\n   \n12          M4B\\n              East York\\n   \n13          M5B\\n       Downtown Toronto\\n   \n14          M6B\\n             North York\\n   \n15          M7B\\n           Not assigned\\n   \n16          M8B\\n           Not assigned\\n   \n17          M9B\\n              Etobicoke\\n   \n18          M1C\\n            Scarborough\\n   \n19          M2C\\n           Not assigned\\n   \n20          M3C\\n             North York\\n   \n21          M4C\\n              East York\\n   \n22          M5C\\n       Downtown Toronto\\n   \n23          M6C\\n                   York\\n   \n24          M7C\\n           Not assigned\\n   \n25          M8C\\n           Not assigned\\n   \n26          M9C\\n              Etobicoke\\n   \n27          M1E\\n            Scarborough\\n   \n28          M2E\\n           Not assigned\\n   \n29          M3E\\n           Not assigned\\n   \n..            ...                      ...   \n332         M8W\\n              Etobicoke\\n   \n333         M9W\\n              Etobicoke\\n   \n334         M1X\\n            Scarborough\\n   \n335         M2X\\n           Not assigned\\n   \n336         M3X\\n           Not assigned\\n   \n337         M4X\\n       Downtown Toronto\\n   \n338         M5X\\n       Downtown Toronto\\n   \n339         M6X\\n           Not assigned\\n   \n340         M7X\\n           Not assigned\\n   \n341         M8X\\n              Etobicoke\\n   \n342         M9X\\n           Not assigned\\n   \n343         M1Y\\n           Not assigned\\n   \n344         M2Y\\n           Not assigned\\n   \n345         M3Y\\n           Not assigned\\n   \n346         M4Y\\n       Downtown Toronto\\n   \n347         M5Y\\n           Not assigned\\n   \n348         M6Y\\n           Not assigned\\n   \n349         M7Y\\n           East Toronto\\n   \n350         M8Y\\n              Etobicoke\\n   \n351         M9Y\\n           Not assigned\\n   \n352         M1Z\\n           Not assigned\\n   \n353         M2Z\\n           Not assigned\\n   \n354         M3Z\\n           Not assigned\\n   \n355         M4Z\\n           Not assigned\\n   \n356         M5Z\\n           Not assigned\\n   \n357         M6Z\\n           Not assigned\\n   \n358         M7Z\\n           Not assigned\\n   \n359         M8Z\\n              Etobicoke\\n   \n360         M9Z\\n           Not assigned\\n   \n361                Canadian postal codes\\n   \n\n                                        Neighborhood\\n  \n0                                                       \n1                                                       \n2                                          Parkwoods\\n  \n3                                   Victoria Village\\n  \n4                         Regent Park / Harbourfront\\n  \n5                  Lawrence Manor / Lawrence Heights\\n  \n6       Queen's Park / Ontario Provincial Government\\n  \n7                                                       \n8                                   Islington Avenue\\n  \n9                                    Malvern / Rouge\\n  \n10                                                      \n11                                         Don Mills\\n  \n12                  Parkview Hill / Woodbine Gardens\\n  \n13                          Garden District, Ryerson\\n  \n14                                         Glencairn\\n  \n15                                                      \n16                                                      \n17   West Deane Park / Princess Gardens / Martin Gr...  \n18          Rouge Hill / Port Union / Highland Creek\\n  \n19                                                      \n20                                         Don Mills\\n  \n21                                  Woodbine Heights\\n  \n22                                    St. James Town\\n  \n23                                Humewood-Cedarvale\\n  \n24                                                      \n25                                                      \n26   Eringate / Bloordale Gardens / Old Burnhamthor...  \n27               Guildwood / Morningside / West Hill\\n  \n28                                                      \n29                                                      \n..                                                 ...  \n332                          Alderwood / Long Branch\\n  \n333                                        Northwest\\n  \n334                                      Upper Rouge\\n  \n335                                                     \n336                                                     \n337                     St. James Town / Cabbagetown\\n  \n338          First Canadian Place / Underground city\\n  \n339                                                     \n340                                                     \n341  The Kingsway / Montgomery Road  / Old Mill Nor...  \n342                                                     \n343                                                     \n344                                                     \n345                                                     \n346                             Church and Wellesley\\n  \n347                                                     \n348                                                     \n349            Business reply mail Processing CentrE\\n  \n350  Old Mill South / King's Mill Park / Sunnylea /...  \n351                                                     \n352                                                     \n353                                                     \n354                                                     \n355                                                     \n356                                                     \n357                                                     \n358                                                     \n359  Mimico NW / The Queensway West / South of Bloo...  \n360                                                     \n361                                                     \n\n[362 rows x 3 columns]",
                        "text/html": "<div>\n<style scoped>\n    .dataframe tbody tr th:only-of-type {\n        vertical-align: middle;\n    }\n\n    .dataframe tbody tr th {\n        vertical-align: top;\n    }\n\n    .dataframe thead th {\n        text-align: right;\n    }\n</style>\n<table border=\"1\" class=\"dataframe\">\n  <thead>\n    <tr style=\"text-align: right;\">\n      <th></th>\n      <th>Postal code</th>\n      <th>Borough</th>\n      <th>Neighborhood</th>\n    </tr>\n  </thead>\n  <tbody>\n    <tr>\n      <th>0</th>\n      <td>M1A\\n</td>\n      <td>Not assigned\\n</td>\n      <td></td>\n    </tr>\n    <tr>\n      <th>1</th>\n      <td>M2A\\n</td>\n      <td>Not assigned\\n</td>\n      <td></td>\n    </tr>\n    <tr>\n      <th>2</th>\n      <td>M3A\\n</td>\n      <td>North York\\n</td>\n      <td>Parkwoods\\n</td>\n    </tr>\n    <tr>\n      <th>3</th>\n      <td>M4A\\n</td>\n      <td>North York\\n</td>\n      <td>Victoria Village\\n</td>\n    </tr>\n    <tr>\n      <th>4</th>\n      <td>M5A\\n</td>\n      <td>Downtown Toronto\\n</td>\n      <td>Regent Park / Harbourfront\\n</td>\n    </tr>\n    <tr>\n      <th>5</th>\n      <td>M6A\\n</td>\n      <td>North York\\n</td>\n      <td>Lawrence Manor / Lawrence Heights\\n</td>\n    </tr>\n    <tr>\n      <th>6</th>\n      <td>M7A\\n</td>\n      <td>Downtown Toronto\\n</td>\n      <td>Queen's Park / Ontario Provincial Government\\n</td>\n    </tr>\n    <tr>\n      <th>7</th>\n      <td>M8A\\n</td>\n      <td>Not assigned\\n</td>\n      <td></td>\n    </tr>\n    <tr>\n      <th>8</th>\n      <td>M9A\\n</td>\n      <td>Etobicoke\\n</td>\n      <td>Islington Avenue\\n</td>\n    </tr>\n    <tr>\n      <th>9</th>\n      <td>M1B\\n</td>\n      <td>Scarborough\\n</td>\n      <td>Malvern / Rouge\\n</td>\n    </tr>\n    <tr>\n      <th>10</th>\n      <td>M2B\\n</td>\n      <td>Not assigned\\n</td>\n      <td></td>\n    </tr>\n    <tr>\n      <th>11</th>\n      <td>M3B\\n</td>\n      <td>North York\\n</td>\n      <td>Don Mills\\n</td>\n    </tr>\n    <tr>\n      <th>12</th>\n      <td>M4B\\n</td>\n      <td>East York\\n</td>\n      <td>Parkview Hill / Woodbine Gardens\\n</td>\n    </tr>\n    <tr>\n      <th>13</th>\n      <td>M5B\\n</td>\n      <td>Downtown Toronto\\n</td>\n      <td>Garden District, Ryerson\\n</td>\n    </tr>\n    <tr>\n      <th>14</th>\n      <td>M6B\\n</td>\n      <td>North York\\n</td>\n      <td>Glencairn\\n</td>\n    </tr>\n    <tr>\n      <th>15</th>\n      <td>M7B\\n</td>\n      <td>Not assigned\\n</td>\n      <td></td>\n    </tr>\n    <tr>\n      <th>16</th>\n      <td>M8B\\n</td>\n      <td>Not assigned\\n</td>\n      <td></td>\n    </tr>\n    <tr>\n      <th>17</th>\n      <td>M9B\\n</td>\n      <td>Etobicoke\\n</td>\n      <td>West Deane Park / Princess Gardens / Martin Gr...</td>\n    </tr>\n    <tr>\n      <th>18</th>\n      <td>M1C\\n</td>\n      <td>Scarborough\\n</td>\n      <td>Rouge Hill / Port Union / Highland Creek\\n</td>\n    </tr>\n    <tr>\n      <th>19</th>\n      <td>M2C\\n</td>\n      <td>Not assigned\\n</td>\n      <td></td>\n    </tr>\n    <tr>\n      <th>20</th>\n      <td>M3C\\n</td>\n      <td>North York\\n</td>\n      <td>Don Mills\\n</td>\n    </tr>\n    <tr>\n      <th>21</th>\n      <td>M4C\\n</td>\n      <td>East York\\n</td>\n      <td>Woodbine Heights\\n</td>\n    </tr>\n    <tr>\n      <th>22</th>\n      <td>M5C\\n</td>\n      <td>Downtown Toronto\\n</td>\n      <td>St. James Town\\n</td>\n    </tr>\n    <tr>\n      <th>23</th>\n      <td>M6C\\n</td>\n      <td>York\\n</td>\n      <td>Humewood-Cedarvale\\n</td>\n    </tr>\n    <tr>\n      <th>24</th>\n      <td>M7C\\n</td>\n      <td>Not assigned\\n</td>\n      <td></td>\n    </tr>\n    <tr>\n      <th>25</th>\n      <td>M8C\\n</td>\n      <td>Not assigned\\n</td>\n      <td></td>\n    </tr>\n    <tr>\n      <th>26</th>\n      <td>M9C\\n</td>\n      <td>Etobicoke\\n</td>\n      <td>Eringate / Bloordale Gardens / Old Burnhamthor...</td>\n    </tr>\n    <tr>\n      <th>27</th>\n      <td>M1E\\n</td>\n      <td>Scarborough\\n</td>\n      <td>Guildwood / Morningside / West Hill\\n</td>\n    </tr>\n    <tr>\n      <th>28</th>\n      <td>M2E\\n</td>\n      <td>Not assigned\\n</td>\n      <td></td>\n    </tr>\n    <tr>\n      <th>29</th>\n      <td>M3E\\n</td>\n      <td>Not assigned\\n</td>\n      <td></td>\n    </tr>\n    <tr>\n      <th>...</th>\n      <td>...</td>\n      <td>...</td>\n      <td>...</td>\n    </tr>\n    <tr>\n      <th>332</th>\n      <td>M8W\\n</td>\n      <td>Etobicoke\\n</td>\n      <td>Alderwood / Long Branch\\n</td>\n    </tr>\n    <tr>\n      <th>333</th>\n      <td>M9W\\n</td>\n      <td>Etobicoke\\n</td>\n      <td>Northwest\\n</td>\n    </tr>\n    <tr>\n      <th>334</th>\n      <td>M1X\\n</td>\n      <td>Scarborough\\n</td>\n      <td>Upper Rouge\\n</td>\n    </tr>\n    <tr>\n      <th>335</th>\n      <td>M2X\\n</td>\n      <td>Not assigned\\n</td>\n      <td></td>\n    </tr>\n    <tr>\n      <th>336</th>\n      <td>M3X\\n</td>\n      <td>Not assigned\\n</td>\n      <td></td>\n    </tr>\n    <tr>\n      <th>337</th>\n      <td>M4X\\n</td>\n      <td>Downtown Toronto\\n</td>\n      <td>St. James Town / Cabbagetown\\n</td>\n    </tr>\n    <tr>\n      <th>338</th>\n      <td>M5X\\n</td>\n      <td>Downtown Toronto\\n</td>\n      <td>First Canadian Place / Underground city\\n</td>\n    </tr>\n    <tr>\n      <th>339</th>\n      <td>M6X\\n</td>\n      <td>Not assigned\\n</td>\n      <td></td>\n    </tr>\n    <tr>\n      <th>340</th>\n      <td>M7X\\n</td>\n      <td>Not assigned\\n</td>\n      <td></td>\n    </tr>\n    <tr>\n      <th>341</th>\n      <td>M8X\\n</td>\n      <td>Etobicoke\\n</td>\n      <td>The Kingsway / Montgomery Road  / Old Mill Nor...</td>\n    </tr>\n    <tr>\n      <th>342</th>\n      <td>M9X\\n</td>\n      <td>Not assigned\\n</td>\n      <td></td>\n    </tr>\n    <tr>\n      <th>343</th>\n      <td>M1Y\\n</td>\n      <td>Not assigned\\n</td>\n      <td></td>\n    </tr>\n    <tr>\n      <th>344</th>\n      <td>M2Y\\n</td>\n      <td>Not assigned\\n</td>\n      <td></td>\n    </tr>\n    <tr>\n      <th>345</th>\n      <td>M3Y\\n</td>\n      <td>Not assigned\\n</td>\n      <td></td>\n    </tr>\n    <tr>\n      <th>346</th>\n      <td>M4Y\\n</td>\n      <td>Downtown Toronto\\n</td>\n      <td>Church and Wellesley\\n</td>\n    </tr>\n    <tr>\n      <th>347</th>\n      <td>M5Y\\n</td>\n      <td>Not assigned\\n</td>\n      <td></td>\n    </tr>\n    <tr>\n      <th>348</th>\n      <td>M6Y\\n</td>\n      <td>Not assigned\\n</td>\n      <td></td>\n    </tr>\n    <tr>\n      <th>349</th>\n      <td>M7Y\\n</td>\n      <td>East Toronto\\n</td>\n      <td>Business reply mail Processing CentrE\\n</td>\n    </tr>\n    <tr>\n      <th>350</th>\n      <td>M8Y\\n</td>\n      <td>Etobicoke\\n</td>\n      <td>Old Mill South / King's Mill Park / Sunnylea /...</td>\n    </tr>\n    <tr>\n      <th>351</th>\n      <td>M9Y\\n</td>\n      <td>Not assigned\\n</td>\n      <td></td>\n    </tr>\n    <tr>\n      <th>352</th>\n      <td>M1Z\\n</td>\n      <td>Not assigned\\n</td>\n      <td></td>\n    </tr>\n    <tr>\n      <th>353</th>\n      <td>M2Z\\n</td>\n      <td>Not assigned\\n</td>\n      <td></td>\n    </tr>\n    <tr>\n      <th>354</th>\n      <td>M3Z\\n</td>\n      <td>Not assigned\\n</td>\n      <td></td>\n    </tr>\n    <tr>\n      <th>355</th>\n      <td>M4Z\\n</td>\n      <td>Not assigned\\n</td>\n      <td></td>\n    </tr>\n    <tr>\n      <th>356</th>\n      <td>M5Z\\n</td>\n      <td>Not assigned\\n</td>\n      <td></td>\n    </tr>\n    <tr>\n      <th>357</th>\n      <td>M6Z\\n</td>\n      <td>Not assigned\\n</td>\n      <td></td>\n    </tr>\n    <tr>\n      <th>358</th>\n      <td>M7Z\\n</td>\n      <td>Not assigned\\n</td>\n      <td></td>\n    </tr>\n    <tr>\n      <th>359</th>\n      <td>M8Z\\n</td>\n      <td>Etobicoke\\n</td>\n      <td>Mimico NW / The Queensway West / South of Bloo...</td>\n    </tr>\n    <tr>\n      <th>360</th>\n      <td>M9Z\\n</td>\n      <td>Not assigned\\n</td>\n      <td></td>\n    </tr>\n    <tr>\n      <th>361</th>\n      <td></td>\n      <td>Canadian postal codes\\n</td>\n      <td></td>\n    </tr>\n  </tbody>\n</table>\n<p>362 rows \u00d7 3 columns</p>\n</div>"
                    },
                    "metadata": {}
                }
            ]
        },
        {
            "metadata": {},
            "cell_type": "code",
            "source": "",
            "execution_count": null,
            "outputs": []
        }
    ],
    "metadata": {
        "kernelspec": {
            "name": "python3",
            "display_name": "Python 3.6",
            "language": "python"
        },
        "language_info": {
            "name": "python",
            "version": "3.6.9",
            "mimetype": "text/x-python",
            "codemirror_mode": {
                "name": "ipython",
                "version": 3
            },
            "pygments_lexer": "ipython3",
            "nbconvert_exporter": "python",
            "file_extension": ".py"
        }
    },
    "nbformat": 4,
    "nbformat_minor": 1
}
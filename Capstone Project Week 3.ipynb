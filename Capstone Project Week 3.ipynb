{
    "cells": [
        {
            "metadata": {
                "collapsed": true
            },
            "cell_type": "markdown",
            "source": "# This is part 1 of the Assignment Week 3"
        },
        {
            "metadata": {},
            "cell_type": "markdown",
            "source": "###### scraping the data from wikipedia"
        },
        {
            "metadata": {},
            "cell_type": "code",
            "source": "# import libraries\nimport requests\nimport lxml.html as lh\nimport pandas as pd",
            "execution_count": 2,
            "outputs": []
        },
        {
            "metadata": {},
            "cell_type": "code",
            "source": "#get table from the wikipedia page\n\n#define url\nurl='https://en.wikipedia.org/wiki/List_of_postal_codes_of_Canada:_M'\n#Create a handle, page, to handle the contents of the website\npage = requests.get(url)\n#Store the contents of the website under doc\ndoc = lh.fromstring(page.content)\n#Parse data that are stored between <tr>..</tr> of HTML\ntr_elements = doc.xpath('//tr')",
            "execution_count": 47,
            "outputs": []
        },
        {
            "metadata": {},
            "cell_type": "code",
            "source": "#Check the length of the first 12 rows\n[len(T) for T in tr_elements[:12]]",
            "execution_count": 48,
            "outputs": [
                {
                    "output_type": "execute_result",
                    "execution_count": 48,
                    "data": {
                        "text/plain": "[3, 3, 3, 3, 3, 3, 3, 3, 3, 3, 3, 3]"
                    },
                    "metadata": {}
                }
            ]
        },
        {
            "metadata": {},
            "cell_type": "code",
            "source": "tr_elements = doc.xpath('//tr')\n#Create empty list\ncol=[]\ni=0\n#For each row, store each first element (header) and an empty list\nfor t in tr_elements[0]:\n    i+=1\n    name=t.text_content()\n    #Delete the string \\n from the end of each name\n    name = name[:len(name)-1]    \n    #print '%d:\"%s\"'%(i,name)\n    col.append((name,[]))",
            "execution_count": 49,
            "outputs": []
        },
        {
            "metadata": {},
            "cell_type": "code",
            "source": "#preparation for creating the pandas dataframe\n\n#Since out first row is the header, data is stored on the second row onwards\nfor j in range(1,len(tr_elements)):\n    #T is our j'th row\n    T=tr_elements[j]\n    \n    #If row is not of size 3, the //tr data is not from our table \n    if len(T)!=3:\n        break\n    \n    #i is the index of our column\n    i=0\n    \n    #Iterate through each element of the row\n    for t in T.iterchildren():\n        data=t.text_content() \n        #Delete the string \\n from the end of each data\n        data = data[:len(data)-1]\n        #Append the data to the empty list of the i'th column\n        col[i][1].append(data)\n        #Increment i for the next column\n        i+=1",
            "execution_count": 50,
            "outputs": []
        },
        {
            "metadata": {},
            "cell_type": "code",
            "source": "#check length\n[len(C) for (title,C) in col]",
            "execution_count": 51,
            "outputs": [
                {
                    "output_type": "execute_result",
                    "execution_count": 51,
                    "data": {
                        "text/plain": "[181, 181, 181]"
                    },
                    "metadata": {}
                }
            ]
        },
        {
            "metadata": {},
            "cell_type": "code",
            "source": "#create the pandas dataframe\n\nDict={title:column for (title,column) in col}\ndf=pd.DataFrame(Dict)",
            "execution_count": 31,
            "outputs": []
        },
        {
            "metadata": {},
            "cell_type": "code",
            "source": "df.shape",
            "execution_count": 26,
            "outputs": [
                {
                    "output_type": "execute_result",
                    "execution_count": 26,
                    "data": {
                        "text/plain": "(181, 3)"
                    },
                    "metadata": {}
                }
            ]
        },
        {
            "metadata": {},
            "cell_type": "code",
            "source": "df.head(10)",
            "execution_count": 32,
            "outputs": [
                {
                    "output_type": "execute_result",
                    "execution_count": 32,
                    "data": {
                        "text/plain": "  Postal code           Borough                                  Neighborhood\n0       M1A\\n      Not assigned                                              \n1       M2A\\n      Not assigned                                              \n2       M3A\\n        North York                                     Parkwoods\n3       M4A\\n        North York                              Victoria Village\n4       M5A\\n  Downtown Toronto                    Regent Park / Harbourfront\n5       M6A\\n        North York             Lawrence Manor / Lawrence Heights\n6       M7A\\n  Downtown Toronto  Queen's Park / Ontario Provincial Government\n7       M8A\\n      Not assigned                                              \n8       M9A\\n         Etobicoke                              Islington Avenue\n9       M1B\\n       Scarborough                               Malvern / Rouge",
                        "text/html": "<div>\n<style scoped>\n    .dataframe tbody tr th:only-of-type {\n        vertical-align: middle;\n    }\n\n    .dataframe tbody tr th {\n        vertical-align: top;\n    }\n\n    .dataframe thead th {\n        text-align: right;\n    }\n</style>\n<table border=\"1\" class=\"dataframe\">\n  <thead>\n    <tr style=\"text-align: right;\">\n      <th></th>\n      <th>Postal code</th>\n      <th>Borough</th>\n      <th>Neighborhood</th>\n    </tr>\n  </thead>\n  <tbody>\n    <tr>\n      <th>0</th>\n      <td>M1A\\n</td>\n      <td>Not assigned</td>\n      <td></td>\n    </tr>\n    <tr>\n      <th>1</th>\n      <td>M2A\\n</td>\n      <td>Not assigned</td>\n      <td></td>\n    </tr>\n    <tr>\n      <th>2</th>\n      <td>M3A\\n</td>\n      <td>North York</td>\n      <td>Parkwoods</td>\n    </tr>\n    <tr>\n      <th>3</th>\n      <td>M4A\\n</td>\n      <td>North York</td>\n      <td>Victoria Village</td>\n    </tr>\n    <tr>\n      <th>4</th>\n      <td>M5A\\n</td>\n      <td>Downtown Toronto</td>\n      <td>Regent Park / Harbourfront</td>\n    </tr>\n    <tr>\n      <th>5</th>\n      <td>M6A\\n</td>\n      <td>North York</td>\n      <td>Lawrence Manor / Lawrence Heights</td>\n    </tr>\n    <tr>\n      <th>6</th>\n      <td>M7A\\n</td>\n      <td>Downtown Toronto</td>\n      <td>Queen's Park / Ontario Provincial Government</td>\n    </tr>\n    <tr>\n      <th>7</th>\n      <td>M8A\\n</td>\n      <td>Not assigned</td>\n      <td></td>\n    </tr>\n    <tr>\n      <th>8</th>\n      <td>M9A\\n</td>\n      <td>Etobicoke</td>\n      <td>Islington Avenue</td>\n    </tr>\n    <tr>\n      <th>9</th>\n      <td>M1B\\n</td>\n      <td>Scarborough</td>\n      <td>Malvern / Rouge</td>\n    </tr>\n  </tbody>\n</table>\n</div>"
                    },
                    "metadata": {}
                }
            ]
        },
        {
            "metadata": {},
            "cell_type": "code",
            "source": "df.dtypes",
            "execution_count": 33,
            "outputs": [
                {
                    "output_type": "execute_result",
                    "execution_count": 33,
                    "data": {
                        "text/plain": "Postal code     object\nBorough         object\nNeighborhood    object\ndtype: object"
                    },
                    "metadata": {}
                }
            ]
        },
        {
            "metadata": {},
            "cell_type": "code",
            "source": "df.describe()",
            "execution_count": 12,
            "outputs": [
                {
                    "output_type": "execute_result",
                    "execution_count": 12,
                    "data": {
                        "text/plain": "       Postal code\\n       Borough\\n Neighborhood\\n\ncount            181             181            181\nunique           181              12             99\ntop            M3P\\n  Not assigned\\n             \\n\nfreq               1              77             78",
                        "text/html": "<div>\n<style scoped>\n    .dataframe tbody tr th:only-of-type {\n        vertical-align: middle;\n    }\n\n    .dataframe tbody tr th {\n        vertical-align: top;\n    }\n\n    .dataframe thead th {\n        text-align: right;\n    }\n</style>\n<table border=\"1\" class=\"dataframe\">\n  <thead>\n    <tr style=\"text-align: right;\">\n      <th></th>\n      <th>Postal code</th>\n      <th>Borough</th>\n      <th>Neighborhood</th>\n    </tr>\n  </thead>\n  <tbody>\n    <tr>\n      <th>count</th>\n      <td>181</td>\n      <td>181</td>\n      <td>181</td>\n    </tr>\n    <tr>\n      <th>unique</th>\n      <td>181</td>\n      <td>12</td>\n      <td>99</td>\n    </tr>\n    <tr>\n      <th>top</th>\n      <td>M3P\\n</td>\n      <td>Not assigned\\n</td>\n      <td>\\n</td>\n    </tr>\n    <tr>\n      <th>freq</th>\n      <td>1</td>\n      <td>77</td>\n      <td>78</td>\n    </tr>\n  </tbody>\n</table>\n</div>"
                    },
                    "metadata": {}
                }
            ]
        },
        {
            "metadata": {},
            "cell_type": "markdown",
            "source": "###### cleaning up the data"
        },
        {
            "metadata": {},
            "cell_type": "code",
            "source": "da.describe()",
            "execution_count": 34,
            "outputs": [
                {
                    "output_type": "execute_result",
                    "execution_count": 34,
                    "data": {
                        "text/plain": "       Postal code       Borough Neighborhood\ncount          181           181          181\nunique         181            12           99\ntop          M3P\\n  Not assigned             \nfreq             1            77           78",
                        "text/html": "<div>\n<style scoped>\n    .dataframe tbody tr th:only-of-type {\n        vertical-align: middle;\n    }\n\n    .dataframe tbody tr th {\n        vertical-align: top;\n    }\n\n    .dataframe thead th {\n        text-align: right;\n    }\n</style>\n<table border=\"1\" class=\"dataframe\">\n  <thead>\n    <tr style=\"text-align: right;\">\n      <th></th>\n      <th>Postal code</th>\n      <th>Borough</th>\n      <th>Neighborhood</th>\n    </tr>\n  </thead>\n  <tbody>\n    <tr>\n      <th>count</th>\n      <td>181</td>\n      <td>181</td>\n      <td>181</td>\n    </tr>\n    <tr>\n      <th>unique</th>\n      <td>181</td>\n      <td>12</td>\n      <td>99</td>\n    </tr>\n    <tr>\n      <th>top</th>\n      <td>M3P\\n</td>\n      <td>Not assigned</td>\n      <td></td>\n    </tr>\n    <tr>\n      <th>freq</th>\n      <td>1</td>\n      <td>77</td>\n      <td>78</td>\n    </tr>\n  </tbody>\n</table>\n</div>"
                    },
                    "metadata": {}
                }
            ]
        },
        {
            "metadata": {},
            "cell_type": "code",
            "source": "tab = df",
            "execution_count": 35,
            "outputs": []
        },
        {
            "metadata": {},
            "cell_type": "code",
            "source": "# Get names of indexes for which column Borough has value \"Not assigned\"\nindexNames = tab[ tab['Borough'] == \"Not assigned\" ].index\n# Delete these row indexes from dataFrame\ntab.drop(indexNames , inplace=True)\n\n# Get names of indexes for which column Borough has value \"Canadian postal code\" that belonged to another table that was wrongly scraped\nindexNames = tab[ tab['Borough'] == \"Canadian postal codes\" ].index\n# Delete these row indexes from dataFrame\ntab.drop(indexNames , inplace=True)",
            "execution_count": 36,
            "outputs": []
        },
        {
            "metadata": {},
            "cell_type": "code",
            "source": "tab",
            "execution_count": 37,
            "outputs": [
                {
                    "output_type": "execute_result",
                    "execution_count": 37,
                    "data": {
                        "text/plain": "    Postal code           Borough  \\\n2         M3A\\n        North York   \n3         M4A\\n        North York   \n4         M5A\\n  Downtown Toronto   \n5         M6A\\n        North York   \n6         M7A\\n  Downtown Toronto   \n8         M9A\\n         Etobicoke   \n9         M1B\\n       Scarborough   \n11        M3B\\n        North York   \n12        M4B\\n         East York   \n13        M5B\\n  Downtown Toronto   \n14        M6B\\n        North York   \n17        M9B\\n         Etobicoke   \n18        M1C\\n       Scarborough   \n20        M3C\\n        North York   \n21        M4C\\n         East York   \n22        M5C\\n  Downtown Toronto   \n23        M6C\\n              York   \n26        M9C\\n         Etobicoke   \n27        M1E\\n       Scarborough   \n30        M4E\\n      East Toronto   \n31        M5E\\n  Downtown Toronto   \n32        M6E\\n              York   \n36        M1G\\n       Scarborough   \n39        M4G\\n         East York   \n40        M5G\\n  Downtown Toronto   \n41        M6G\\n  Downtown Toronto   \n45        M1H\\n       Scarborough   \n46        M2H\\n        North York   \n47        M3H\\n        North York   \n48        M4H\\n         East York   \n..          ...               ...   \n111       M4R\\n   Central Toronto   \n112       M5R\\n   Central Toronto   \n113       M6R\\n      West Toronto   \n114       M7R\\n       Mississauga   \n116       M9R\\n         Etobicoke   \n117       M1S\\n       Scarborough   \n120       M4S\\n   Central Toronto   \n121       M5S\\n  Downtown Toronto   \n122       M6S\\n      West Toronto   \n126       M1T\\n       Scarborough   \n129       M4T\\n   Central Toronto   \n130       M5T\\n  Downtown Toronto   \n135       M1V\\n       Scarborough   \n138       M4V\\n   Central Toronto   \n139       M5V\\n  Downtown Toronto   \n142       M8V\\n         Etobicoke   \n143       M9V\\n         Etobicoke   \n144       M1W\\n       Scarborough   \n147       M4W\\n  Downtown Toronto   \n148       M5W\\n  Downtown Toronto   \n151       M8W\\n         Etobicoke   \n152       M9W\\n         Etobicoke   \n153       M1X\\n       Scarborough   \n156       M4X\\n  Downtown Toronto   \n157       M5X\\n  Downtown Toronto   \n160       M8X\\n         Etobicoke   \n165       M4Y\\n  Downtown Toronto   \n168       M7Y\\n      East Toronto   \n169       M8Y\\n         Etobicoke   \n178       M8Z\\n         Etobicoke   \n\n                                          Neighborhood  \n2                                            Parkwoods  \n3                                     Victoria Village  \n4                           Regent Park / Harbourfront  \n5                    Lawrence Manor / Lawrence Heights  \n6         Queen's Park / Ontario Provincial Government  \n8                                     Islington Avenue  \n9                                      Malvern / Rouge  \n11                                           Don Mills  \n12                    Parkview Hill / Woodbine Gardens  \n13                            Garden District, Ryerson  \n14                                           Glencairn  \n17   West Deane Park / Princess Gardens / Martin Gr...  \n18            Rouge Hill / Port Union / Highland Creek  \n20                                           Don Mills  \n21                                    Woodbine Heights  \n22                                      St. James Town  \n23                                  Humewood-Cedarvale  \n26   Eringate / Bloordale Gardens / Old Burnhamthor...  \n27                 Guildwood / Morningside / West Hill  \n30                                         The Beaches  \n31                                         Berczy Park  \n32                                 Caledonia-Fairbanks  \n36                                              Woburn  \n39                                             Leaside  \n40                                  Central Bay Street  \n41                                            Christie  \n45                                           Cedarbrae  \n46                                   Hillcrest Village  \n47   Bathurst Manor / Wilson Heights / Downsview North  \n48                                    Thorncliffe Park  \n..                                                 ...  \n111                                 North Toronto West  \n112              The Annex / North Midtown / Yorkville  \n113                            Parkdale / Roncesvalles  \n114              Canada Post Gateway Processing Centre  \n116  Kingsview Village / St. Phillips / Martin Grov...  \n117                                          Agincourt  \n120                                         Davisville  \n121                    University of Toronto / Harbord  \n122                                Runnymede / Swansea  \n126          Clarks Corners / Tam O'Shanter / Sullivan  \n129                       Moore Park / Summerhill East  \n130        Kensington Market / Chinatown / Grange Park  \n135  Milliken / Agincourt North / Steeles East / L'...  \n138  Summerhill West / Rathnelly / South Hill / For...  \n139  CN Tower / King and Spadina / Railway Lands / ...  \n142     New Toronto / Mimico South / Humber Bay Shores  \n143  South Steeles / Silverstone / Humbergate / Jam...  \n144                     Steeles West / L'Amoreaux West  \n147                                           Rosedale  \n148                                     Stn A PO Boxes  \n151                            Alderwood / Long Branch  \n152                                          Northwest  \n153                                        Upper Rouge  \n156                       St. James Town / Cabbagetown  \n157            First Canadian Place / Underground city  \n160   The Kingsway / Montgomery Road  / Old Mill North  \n165                               Church and Wellesley  \n168              Business reply mail Processing CentrE  \n169  Old Mill South / King's Mill Park / Sunnylea /...  \n178  Mimico NW / The Queensway West / South of Bloo...  \n\n[103 rows x 3 columns]",
                        "text/html": "<div>\n<style scoped>\n    .dataframe tbody tr th:only-of-type {\n        vertical-align: middle;\n    }\n\n    .dataframe tbody tr th {\n        vertical-align: top;\n    }\n\n    .dataframe thead th {\n        text-align: right;\n    }\n</style>\n<table border=\"1\" class=\"dataframe\">\n  <thead>\n    <tr style=\"text-align: right;\">\n      <th></th>\n      <th>Postal code</th>\n      <th>Borough</th>\n      <th>Neighborhood</th>\n    </tr>\n  </thead>\n  <tbody>\n    <tr>\n      <th>2</th>\n      <td>M3A\\n</td>\n      <td>North York</td>\n      <td>Parkwoods</td>\n    </tr>\n    <tr>\n      <th>3</th>\n      <td>M4A\\n</td>\n      <td>North York</td>\n      <td>Victoria Village</td>\n    </tr>\n    <tr>\n      <th>4</th>\n      <td>M5A\\n</td>\n      <td>Downtown Toronto</td>\n      <td>Regent Park / Harbourfront</td>\n    </tr>\n    <tr>\n      <th>5</th>\n      <td>M6A\\n</td>\n      <td>North York</td>\n      <td>Lawrence Manor / Lawrence Heights</td>\n    </tr>\n    <tr>\n      <th>6</th>\n      <td>M7A\\n</td>\n      <td>Downtown Toronto</td>\n      <td>Queen's Park / Ontario Provincial Government</td>\n    </tr>\n    <tr>\n      <th>8</th>\n      <td>M9A\\n</td>\n      <td>Etobicoke</td>\n      <td>Islington Avenue</td>\n    </tr>\n    <tr>\n      <th>9</th>\n      <td>M1B\\n</td>\n      <td>Scarborough</td>\n      <td>Malvern / Rouge</td>\n    </tr>\n    <tr>\n      <th>11</th>\n      <td>M3B\\n</td>\n      <td>North York</td>\n      <td>Don Mills</td>\n    </tr>\n    <tr>\n      <th>12</th>\n      <td>M4B\\n</td>\n      <td>East York</td>\n      <td>Parkview Hill / Woodbine Gardens</td>\n    </tr>\n    <tr>\n      <th>13</th>\n      <td>M5B\\n</td>\n      <td>Downtown Toronto</td>\n      <td>Garden District, Ryerson</td>\n    </tr>\n    <tr>\n      <th>14</th>\n      <td>M6B\\n</td>\n      <td>North York</td>\n      <td>Glencairn</td>\n    </tr>\n    <tr>\n      <th>17</th>\n      <td>M9B\\n</td>\n      <td>Etobicoke</td>\n      <td>West Deane Park / Princess Gardens / Martin Gr...</td>\n    </tr>\n    <tr>\n      <th>18</th>\n      <td>M1C\\n</td>\n      <td>Scarborough</td>\n      <td>Rouge Hill / Port Union / Highland Creek</td>\n    </tr>\n    <tr>\n      <th>20</th>\n      <td>M3C\\n</td>\n      <td>North York</td>\n      <td>Don Mills</td>\n    </tr>\n    <tr>\n      <th>21</th>\n      <td>M4C\\n</td>\n      <td>East York</td>\n      <td>Woodbine Heights</td>\n    </tr>\n    <tr>\n      <th>22</th>\n      <td>M5C\\n</td>\n      <td>Downtown Toronto</td>\n      <td>St. James Town</td>\n    </tr>\n    <tr>\n      <th>23</th>\n      <td>M6C\\n</td>\n      <td>York</td>\n      <td>Humewood-Cedarvale</td>\n    </tr>\n    <tr>\n      <th>26</th>\n      <td>M9C\\n</td>\n      <td>Etobicoke</td>\n      <td>Eringate / Bloordale Gardens / Old Burnhamthor...</td>\n    </tr>\n    <tr>\n      <th>27</th>\n      <td>M1E\\n</td>\n      <td>Scarborough</td>\n      <td>Guildwood / Morningside / West Hill</td>\n    </tr>\n    <tr>\n      <th>30</th>\n      <td>M4E\\n</td>\n      <td>East Toronto</td>\n      <td>The Beaches</td>\n    </tr>\n    <tr>\n      <th>31</th>\n      <td>M5E\\n</td>\n      <td>Downtown Toronto</td>\n      <td>Berczy Park</td>\n    </tr>\n    <tr>\n      <th>32</th>\n      <td>M6E\\n</td>\n      <td>York</td>\n      <td>Caledonia-Fairbanks</td>\n    </tr>\n    <tr>\n      <th>36</th>\n      <td>M1G\\n</td>\n      <td>Scarborough</td>\n      <td>Woburn</td>\n    </tr>\n    <tr>\n      <th>39</th>\n      <td>M4G\\n</td>\n      <td>East York</td>\n      <td>Leaside</td>\n    </tr>\n    <tr>\n      <th>40</th>\n      <td>M5G\\n</td>\n      <td>Downtown Toronto</td>\n      <td>Central Bay Street</td>\n    </tr>\n    <tr>\n      <th>41</th>\n      <td>M6G\\n</td>\n      <td>Downtown Toronto</td>\n      <td>Christie</td>\n    </tr>\n    <tr>\n      <th>45</th>\n      <td>M1H\\n</td>\n      <td>Scarborough</td>\n      <td>Cedarbrae</td>\n    </tr>\n    <tr>\n      <th>46</th>\n      <td>M2H\\n</td>\n      <td>North York</td>\n      <td>Hillcrest Village</td>\n    </tr>\n    <tr>\n      <th>47</th>\n      <td>M3H\\n</td>\n      <td>North York</td>\n      <td>Bathurst Manor / Wilson Heights / Downsview North</td>\n    </tr>\n    <tr>\n      <th>48</th>\n      <td>M4H\\n</td>\n      <td>East York</td>\n      <td>Thorncliffe Park</td>\n    </tr>\n    <tr>\n      <th>...</th>\n      <td>...</td>\n      <td>...</td>\n      <td>...</td>\n    </tr>\n    <tr>\n      <th>111</th>\n      <td>M4R\\n</td>\n      <td>Central Toronto</td>\n      <td>North Toronto West</td>\n    </tr>\n    <tr>\n      <th>112</th>\n      <td>M5R\\n</td>\n      <td>Central Toronto</td>\n      <td>The Annex / North Midtown / Yorkville</td>\n    </tr>\n    <tr>\n      <th>113</th>\n      <td>M6R\\n</td>\n      <td>West Toronto</td>\n      <td>Parkdale / Roncesvalles</td>\n    </tr>\n    <tr>\n      <th>114</th>\n      <td>M7R\\n</td>\n      <td>Mississauga</td>\n      <td>Canada Post Gateway Processing Centre</td>\n    </tr>\n    <tr>\n      <th>116</th>\n      <td>M9R\\n</td>\n      <td>Etobicoke</td>\n      <td>Kingsview Village / St. Phillips / Martin Grov...</td>\n    </tr>\n    <tr>\n      <th>117</th>\n      <td>M1S\\n</td>\n      <td>Scarborough</td>\n      <td>Agincourt</td>\n    </tr>\n    <tr>\n      <th>120</th>\n      <td>M4S\\n</td>\n      <td>Central Toronto</td>\n      <td>Davisville</td>\n    </tr>\n    <tr>\n      <th>121</th>\n      <td>M5S\\n</td>\n      <td>Downtown Toronto</td>\n      <td>University of Toronto / Harbord</td>\n    </tr>\n    <tr>\n      <th>122</th>\n      <td>M6S\\n</td>\n      <td>West Toronto</td>\n      <td>Runnymede / Swansea</td>\n    </tr>\n    <tr>\n      <th>126</th>\n      <td>M1T\\n</td>\n      <td>Scarborough</td>\n      <td>Clarks Corners / Tam O'Shanter / Sullivan</td>\n    </tr>\n    <tr>\n      <th>129</th>\n      <td>M4T\\n</td>\n      <td>Central Toronto</td>\n      <td>Moore Park / Summerhill East</td>\n    </tr>\n    <tr>\n      <th>130</th>\n      <td>M5T\\n</td>\n      <td>Downtown Toronto</td>\n      <td>Kensington Market / Chinatown / Grange Park</td>\n    </tr>\n    <tr>\n      <th>135</th>\n      <td>M1V\\n</td>\n      <td>Scarborough</td>\n      <td>Milliken / Agincourt North / Steeles East / L'...</td>\n    </tr>\n    <tr>\n      <th>138</th>\n      <td>M4V\\n</td>\n      <td>Central Toronto</td>\n      <td>Summerhill West / Rathnelly / South Hill / For...</td>\n    </tr>\n    <tr>\n      <th>139</th>\n      <td>M5V\\n</td>\n      <td>Downtown Toronto</td>\n      <td>CN Tower / King and Spadina / Railway Lands / ...</td>\n    </tr>\n    <tr>\n      <th>142</th>\n      <td>M8V\\n</td>\n      <td>Etobicoke</td>\n      <td>New Toronto / Mimico South / Humber Bay Shores</td>\n    </tr>\n    <tr>\n      <th>143</th>\n      <td>M9V\\n</td>\n      <td>Etobicoke</td>\n      <td>South Steeles / Silverstone / Humbergate / Jam...</td>\n    </tr>\n    <tr>\n      <th>144</th>\n      <td>M1W\\n</td>\n      <td>Scarborough</td>\n      <td>Steeles West / L'Amoreaux West</td>\n    </tr>\n    <tr>\n      <th>147</th>\n      <td>M4W\\n</td>\n      <td>Downtown Toronto</td>\n      <td>Rosedale</td>\n    </tr>\n    <tr>\n      <th>148</th>\n      <td>M5W\\n</td>\n      <td>Downtown Toronto</td>\n      <td>Stn A PO Boxes</td>\n    </tr>\n    <tr>\n      <th>151</th>\n      <td>M8W\\n</td>\n      <td>Etobicoke</td>\n      <td>Alderwood / Long Branch</td>\n    </tr>\n    <tr>\n      <th>152</th>\n      <td>M9W\\n</td>\n      <td>Etobicoke</td>\n      <td>Northwest</td>\n    </tr>\n    <tr>\n      <th>153</th>\n      <td>M1X\\n</td>\n      <td>Scarborough</td>\n      <td>Upper Rouge</td>\n    </tr>\n    <tr>\n      <th>156</th>\n      <td>M4X\\n</td>\n      <td>Downtown Toronto</td>\n      <td>St. James Town / Cabbagetown</td>\n    </tr>\n    <tr>\n      <th>157</th>\n      <td>M5X\\n</td>\n      <td>Downtown Toronto</td>\n      <td>First Canadian Place / Underground city</td>\n    </tr>\n    <tr>\n      <th>160</th>\n      <td>M8X\\n</td>\n      <td>Etobicoke</td>\n      <td>The Kingsway / Montgomery Road  / Old Mill North</td>\n    </tr>\n    <tr>\n      <th>165</th>\n      <td>M4Y\\n</td>\n      <td>Downtown Toronto</td>\n      <td>Church and Wellesley</td>\n    </tr>\n    <tr>\n      <th>168</th>\n      <td>M7Y\\n</td>\n      <td>East Toronto</td>\n      <td>Business reply mail Processing CentrE</td>\n    </tr>\n    <tr>\n      <th>169</th>\n      <td>M8Y\\n</td>\n      <td>Etobicoke</td>\n      <td>Old Mill South / King's Mill Park / Sunnylea /...</td>\n    </tr>\n    <tr>\n      <th>178</th>\n      <td>M8Z\\n</td>\n      <td>Etobicoke</td>\n      <td>Mimico NW / The Queensway West / South of Bloo...</td>\n    </tr>\n  </tbody>\n</table>\n<p>103 rows \u00d7 3 columns</p>\n</div>"
                    },
                    "metadata": {}
                }
            ]
        },
        {
            "metadata": {},
            "cell_type": "code",
            "source": "# reset index, because we droped two rows\ntab.reset_index(drop=True, inplace=True)",
            "execution_count": 20,
            "outputs": []
        },
        {
            "metadata": {},
            "cell_type": "code",
            "source": "tab",
            "execution_count": 21,
            "outputs": [
                {
                    "output_type": "execute_result",
                    "execution_count": 21,
                    "data": {
                        "text/plain": "    Postal code\\n           Borough\\n  \\\n0           M3A\\n        North York\\n   \n1           M4A\\n        North York\\n   \n2           M5A\\n  Downtown Toronto\\n   \n3           M6A\\n        North York\\n   \n4           M7A\\n  Downtown Toronto\\n   \n5           M9A\\n         Etobicoke\\n   \n6           M1B\\n       Scarborough\\n   \n7           M3B\\n        North York\\n   \n8           M4B\\n         East York\\n   \n9           M5B\\n  Downtown Toronto\\n   \n10          M6B\\n        North York\\n   \n11          M9B\\n         Etobicoke\\n   \n12          M1C\\n       Scarborough\\n   \n13          M3C\\n        North York\\n   \n14          M4C\\n         East York\\n   \n15          M5C\\n  Downtown Toronto\\n   \n16          M6C\\n              York\\n   \n17          M9C\\n         Etobicoke\\n   \n18          M1E\\n       Scarborough\\n   \n19          M4E\\n      East Toronto\\n   \n20          M5E\\n  Downtown Toronto\\n   \n21          M6E\\n              York\\n   \n22          M1G\\n       Scarborough\\n   \n23          M4G\\n         East York\\n   \n24          M5G\\n  Downtown Toronto\\n   \n25          M6G\\n  Downtown Toronto\\n   \n26          M1H\\n       Scarborough\\n   \n27          M2H\\n        North York\\n   \n28          M3H\\n        North York\\n   \n29          M4H\\n         East York\\n   \n..            ...                 ...   \n73          M4R\\n   Central Toronto\\n   \n74          M5R\\n   Central Toronto\\n   \n75          M6R\\n      West Toronto\\n   \n76          M7R\\n       Mississauga\\n   \n77          M9R\\n         Etobicoke\\n   \n78          M1S\\n       Scarborough\\n   \n79          M4S\\n   Central Toronto\\n   \n80          M5S\\n  Downtown Toronto\\n   \n81          M6S\\n      West Toronto\\n   \n82          M1T\\n       Scarborough\\n   \n83          M4T\\n   Central Toronto\\n   \n84          M5T\\n  Downtown Toronto\\n   \n85          M1V\\n       Scarborough\\n   \n86          M4V\\n   Central Toronto\\n   \n87          M5V\\n  Downtown Toronto\\n   \n88          M8V\\n         Etobicoke\\n   \n89          M9V\\n         Etobicoke\\n   \n90          M1W\\n       Scarborough\\n   \n91          M4W\\n  Downtown Toronto\\n   \n92          M5W\\n  Downtown Toronto\\n   \n93          M8W\\n         Etobicoke\\n   \n94          M9W\\n         Etobicoke\\n   \n95          M1X\\n       Scarborough\\n   \n96          M4X\\n  Downtown Toronto\\n   \n97          M5X\\n  Downtown Toronto\\n   \n98          M8X\\n         Etobicoke\\n   \n99          M4Y\\n  Downtown Toronto\\n   \n100         M7Y\\n      East Toronto\\n   \n101         M8Y\\n         Etobicoke\\n   \n102         M8Z\\n         Etobicoke\\n   \n\n                                        Neighborhood\\n  \n0                                          Parkwoods\\n  \n1                                   Victoria Village\\n  \n2                         Regent Park / Harbourfront\\n  \n3                  Lawrence Manor / Lawrence Heights\\n  \n4       Queen's Park / Ontario Provincial Government\\n  \n5                                   Islington Avenue\\n  \n6                                    Malvern / Rouge\\n  \n7                                          Don Mills\\n  \n8                   Parkview Hill / Woodbine Gardens\\n  \n9                           Garden District, Ryerson\\n  \n10                                         Glencairn\\n  \n11   West Deane Park / Princess Gardens / Martin Gr...  \n12          Rouge Hill / Port Union / Highland Creek\\n  \n13                                         Don Mills\\n  \n14                                  Woodbine Heights\\n  \n15                                    St. James Town\\n  \n16                                Humewood-Cedarvale\\n  \n17   Eringate / Bloordale Gardens / Old Burnhamthor...  \n18               Guildwood / Morningside / West Hill\\n  \n19                                       The Beaches\\n  \n20                                       Berczy Park\\n  \n21                               Caledonia-Fairbanks\\n  \n22                                            Woburn\\n  \n23                                           Leaside\\n  \n24                                Central Bay Street\\n  \n25                                          Christie\\n  \n26                                         Cedarbrae\\n  \n27                                 Hillcrest Village\\n  \n28   Bathurst Manor / Wilson Heights / Downsview No...  \n29                                  Thorncliffe Park\\n  \n..                                                 ...  \n73                                North Toronto West\\n  \n74             The Annex / North Midtown / Yorkville\\n  \n75                           Parkdale / Roncesvalles\\n  \n76             Canada Post Gateway Processing Centre\\n  \n77   Kingsview Village / St. Phillips / Martin Grov...  \n78                                         Agincourt\\n  \n79                                        Davisville\\n  \n80                   University of Toronto / Harbord\\n  \n81                               Runnymede / Swansea\\n  \n82         Clarks Corners / Tam O'Shanter / Sullivan\\n  \n83                      Moore Park / Summerhill East\\n  \n84       Kensington Market / Chinatown / Grange Park\\n  \n85   Milliken / Agincourt North / Steeles East / L'...  \n86   Summerhill West / Rathnelly / South Hill / For...  \n87   CN Tower / King and Spadina / Railway Lands / ...  \n88    New Toronto / Mimico South / Humber Bay Shores\\n  \n89   South Steeles / Silverstone / Humbergate / Jam...  \n90                    Steeles West / L'Amoreaux West\\n  \n91                                          Rosedale\\n  \n92                                    Stn A PO Boxes\\n  \n93                           Alderwood / Long Branch\\n  \n94                                         Northwest\\n  \n95                                       Upper Rouge\\n  \n96                      St. James Town / Cabbagetown\\n  \n97           First Canadian Place / Underground city\\n  \n98   The Kingsway / Montgomery Road  / Old Mill Nor...  \n99                              Church and Wellesley\\n  \n100            Business reply mail Processing CentrE\\n  \n101  Old Mill South / King's Mill Park / Sunnylea /...  \n102  Mimico NW / The Queensway West / South of Bloo...  \n\n[103 rows x 3 columns]",
                        "text/html": "<div>\n<style scoped>\n    .dataframe tbody tr th:only-of-type {\n        vertical-align: middle;\n    }\n\n    .dataframe tbody tr th {\n        vertical-align: top;\n    }\n\n    .dataframe thead th {\n        text-align: right;\n    }\n</style>\n<table border=\"1\" class=\"dataframe\">\n  <thead>\n    <tr style=\"text-align: right;\">\n      <th></th>\n      <th>Postal code</th>\n      <th>Borough</th>\n      <th>Neighborhood</th>\n    </tr>\n  </thead>\n  <tbody>\n    <tr>\n      <th>0</th>\n      <td>M3A\\n</td>\n      <td>North York\\n</td>\n      <td>Parkwoods\\n</td>\n    </tr>\n    <tr>\n      <th>1</th>\n      <td>M4A\\n</td>\n      <td>North York\\n</td>\n      <td>Victoria Village\\n</td>\n    </tr>\n    <tr>\n      <th>2</th>\n      <td>M5A\\n</td>\n      <td>Downtown Toronto\\n</td>\n      <td>Regent Park / Harbourfront\\n</td>\n    </tr>\n    <tr>\n      <th>3</th>\n      <td>M6A\\n</td>\n      <td>North York\\n</td>\n      <td>Lawrence Manor / Lawrence Heights\\n</td>\n    </tr>\n    <tr>\n      <th>4</th>\n      <td>M7A\\n</td>\n      <td>Downtown Toronto\\n</td>\n      <td>Queen's Park / Ontario Provincial Government\\n</td>\n    </tr>\n    <tr>\n      <th>5</th>\n      <td>M9A\\n</td>\n      <td>Etobicoke\\n</td>\n      <td>Islington Avenue\\n</td>\n    </tr>\n    <tr>\n      <th>6</th>\n      <td>M1B\\n</td>\n      <td>Scarborough\\n</td>\n      <td>Malvern / Rouge\\n</td>\n    </tr>\n    <tr>\n      <th>7</th>\n      <td>M3B\\n</td>\n      <td>North York\\n</td>\n      <td>Don Mills\\n</td>\n    </tr>\n    <tr>\n      <th>8</th>\n      <td>M4B\\n</td>\n      <td>East York\\n</td>\n      <td>Parkview Hill / Woodbine Gardens\\n</td>\n    </tr>\n    <tr>\n      <th>9</th>\n      <td>M5B\\n</td>\n      <td>Downtown Toronto\\n</td>\n      <td>Garden District, Ryerson\\n</td>\n    </tr>\n    <tr>\n      <th>10</th>\n      <td>M6B\\n</td>\n      <td>North York\\n</td>\n      <td>Glencairn\\n</td>\n    </tr>\n    <tr>\n      <th>11</th>\n      <td>M9B\\n</td>\n      <td>Etobicoke\\n</td>\n      <td>West Deane Park / Princess Gardens / Martin Gr...</td>\n    </tr>\n    <tr>\n      <th>12</th>\n      <td>M1C\\n</td>\n      <td>Scarborough\\n</td>\n      <td>Rouge Hill / Port Union / Highland Creek\\n</td>\n    </tr>\n    <tr>\n      <th>13</th>\n      <td>M3C\\n</td>\n      <td>North York\\n</td>\n      <td>Don Mills\\n</td>\n    </tr>\n    <tr>\n      <th>14</th>\n      <td>M4C\\n</td>\n      <td>East York\\n</td>\n      <td>Woodbine Heights\\n</td>\n    </tr>\n    <tr>\n      <th>15</th>\n      <td>M5C\\n</td>\n      <td>Downtown Toronto\\n</td>\n      <td>St. James Town\\n</td>\n    </tr>\n    <tr>\n      <th>16</th>\n      <td>M6C\\n</td>\n      <td>York\\n</td>\n      <td>Humewood-Cedarvale\\n</td>\n    </tr>\n    <tr>\n      <th>17</th>\n      <td>M9C\\n</td>\n      <td>Etobicoke\\n</td>\n      <td>Eringate / Bloordale Gardens / Old Burnhamthor...</td>\n    </tr>\n    <tr>\n      <th>18</th>\n      <td>M1E\\n</td>\n      <td>Scarborough\\n</td>\n      <td>Guildwood / Morningside / West Hill\\n</td>\n    </tr>\n    <tr>\n      <th>19</th>\n      <td>M4E\\n</td>\n      <td>East Toronto\\n</td>\n      <td>The Beaches\\n</td>\n    </tr>\n    <tr>\n      <th>20</th>\n      <td>M5E\\n</td>\n      <td>Downtown Toronto\\n</td>\n      <td>Berczy Park\\n</td>\n    </tr>\n    <tr>\n      <th>21</th>\n      <td>M6E\\n</td>\n      <td>York\\n</td>\n      <td>Caledonia-Fairbanks\\n</td>\n    </tr>\n    <tr>\n      <th>22</th>\n      <td>M1G\\n</td>\n      <td>Scarborough\\n</td>\n      <td>Woburn\\n</td>\n    </tr>\n    <tr>\n      <th>23</th>\n      <td>M4G\\n</td>\n      <td>East York\\n</td>\n      <td>Leaside\\n</td>\n    </tr>\n    <tr>\n      <th>24</th>\n      <td>M5G\\n</td>\n      <td>Downtown Toronto\\n</td>\n      <td>Central Bay Street\\n</td>\n    </tr>\n    <tr>\n      <th>25</th>\n      <td>M6G\\n</td>\n      <td>Downtown Toronto\\n</td>\n      <td>Christie\\n</td>\n    </tr>\n    <tr>\n      <th>26</th>\n      <td>M1H\\n</td>\n      <td>Scarborough\\n</td>\n      <td>Cedarbrae\\n</td>\n    </tr>\n    <tr>\n      <th>27</th>\n      <td>M2H\\n</td>\n      <td>North York\\n</td>\n      <td>Hillcrest Village\\n</td>\n    </tr>\n    <tr>\n      <th>28</th>\n      <td>M3H\\n</td>\n      <td>North York\\n</td>\n      <td>Bathurst Manor / Wilson Heights / Downsview No...</td>\n    </tr>\n    <tr>\n      <th>29</th>\n      <td>M4H\\n</td>\n      <td>East York\\n</td>\n      <td>Thorncliffe Park\\n</td>\n    </tr>\n    <tr>\n      <th>...</th>\n      <td>...</td>\n      <td>...</td>\n      <td>...</td>\n    </tr>\n    <tr>\n      <th>73</th>\n      <td>M4R\\n</td>\n      <td>Central Toronto\\n</td>\n      <td>North Toronto West\\n</td>\n    </tr>\n    <tr>\n      <th>74</th>\n      <td>M5R\\n</td>\n      <td>Central Toronto\\n</td>\n      <td>The Annex / North Midtown / Yorkville\\n</td>\n    </tr>\n    <tr>\n      <th>75</th>\n      <td>M6R\\n</td>\n      <td>West Toronto\\n</td>\n      <td>Parkdale / Roncesvalles\\n</td>\n    </tr>\n    <tr>\n      <th>76</th>\n      <td>M7R\\n</td>\n      <td>Mississauga\\n</td>\n      <td>Canada Post Gateway Processing Centre\\n</td>\n    </tr>\n    <tr>\n      <th>77</th>\n      <td>M9R\\n</td>\n      <td>Etobicoke\\n</td>\n      <td>Kingsview Village / St. Phillips / Martin Grov...</td>\n    </tr>\n    <tr>\n      <th>78</th>\n      <td>M1S\\n</td>\n      <td>Scarborough\\n</td>\n      <td>Agincourt\\n</td>\n    </tr>\n    <tr>\n      <th>79</th>\n      <td>M4S\\n</td>\n      <td>Central Toronto\\n</td>\n      <td>Davisville\\n</td>\n    </tr>\n    <tr>\n      <th>80</th>\n      <td>M5S\\n</td>\n      <td>Downtown Toronto\\n</td>\n      <td>University of Toronto / Harbord\\n</td>\n    </tr>\n    <tr>\n      <th>81</th>\n      <td>M6S\\n</td>\n      <td>West Toronto\\n</td>\n      <td>Runnymede / Swansea\\n</td>\n    </tr>\n    <tr>\n      <th>82</th>\n      <td>M1T\\n</td>\n      <td>Scarborough\\n</td>\n      <td>Clarks Corners / Tam O'Shanter / Sullivan\\n</td>\n    </tr>\n    <tr>\n      <th>83</th>\n      <td>M4T\\n</td>\n      <td>Central Toronto\\n</td>\n      <td>Moore Park / Summerhill East\\n</td>\n    </tr>\n    <tr>\n      <th>84</th>\n      <td>M5T\\n</td>\n      <td>Downtown Toronto\\n</td>\n      <td>Kensington Market / Chinatown / Grange Park\\n</td>\n    </tr>\n    <tr>\n      <th>85</th>\n      <td>M1V\\n</td>\n      <td>Scarborough\\n</td>\n      <td>Milliken / Agincourt North / Steeles East / L'...</td>\n    </tr>\n    <tr>\n      <th>86</th>\n      <td>M4V\\n</td>\n      <td>Central Toronto\\n</td>\n      <td>Summerhill West / Rathnelly / South Hill / For...</td>\n    </tr>\n    <tr>\n      <th>87</th>\n      <td>M5V\\n</td>\n      <td>Downtown Toronto\\n</td>\n      <td>CN Tower / King and Spadina / Railway Lands / ...</td>\n    </tr>\n    <tr>\n      <th>88</th>\n      <td>M8V\\n</td>\n      <td>Etobicoke\\n</td>\n      <td>New Toronto / Mimico South / Humber Bay Shores\\n</td>\n    </tr>\n    <tr>\n      <th>89</th>\n      <td>M9V\\n</td>\n      <td>Etobicoke\\n</td>\n      <td>South Steeles / Silverstone / Humbergate / Jam...</td>\n    </tr>\n    <tr>\n      <th>90</th>\n      <td>M1W\\n</td>\n      <td>Scarborough\\n</td>\n      <td>Steeles West / L'Amoreaux West\\n</td>\n    </tr>\n    <tr>\n      <th>91</th>\n      <td>M4W\\n</td>\n      <td>Downtown Toronto\\n</td>\n      <td>Rosedale\\n</td>\n    </tr>\n    <tr>\n      <th>92</th>\n      <td>M5W\\n</td>\n      <td>Downtown Toronto\\n</td>\n      <td>Stn A PO Boxes\\n</td>\n    </tr>\n    <tr>\n      <th>93</th>\n      <td>M8W\\n</td>\n      <td>Etobicoke\\n</td>\n      <td>Alderwood / Long Branch\\n</td>\n    </tr>\n    <tr>\n      <th>94</th>\n      <td>M9W\\n</td>\n      <td>Etobicoke\\n</td>\n      <td>Northwest\\n</td>\n    </tr>\n    <tr>\n      <th>95</th>\n      <td>M1X\\n</td>\n      <td>Scarborough\\n</td>\n      <td>Upper Rouge\\n</td>\n    </tr>\n    <tr>\n      <th>96</th>\n      <td>M4X\\n</td>\n      <td>Downtown Toronto\\n</td>\n      <td>St. James Town / Cabbagetown\\n</td>\n    </tr>\n    <tr>\n      <th>97</th>\n      <td>M5X\\n</td>\n      <td>Downtown Toronto\\n</td>\n      <td>First Canadian Place / Underground city\\n</td>\n    </tr>\n    <tr>\n      <th>98</th>\n      <td>M8X\\n</td>\n      <td>Etobicoke\\n</td>\n      <td>The Kingsway / Montgomery Road  / Old Mill Nor...</td>\n    </tr>\n    <tr>\n      <th>99</th>\n      <td>M4Y\\n</td>\n      <td>Downtown Toronto\\n</td>\n      <td>Church and Wellesley\\n</td>\n    </tr>\n    <tr>\n      <th>100</th>\n      <td>M7Y\\n</td>\n      <td>East Toronto\\n</td>\n      <td>Business reply mail Processing CentrE\\n</td>\n    </tr>\n    <tr>\n      <th>101</th>\n      <td>M8Y\\n</td>\n      <td>Etobicoke\\n</td>\n      <td>Old Mill South / King's Mill Park / Sunnylea /...</td>\n    </tr>\n    <tr>\n      <th>102</th>\n      <td>M8Z\\n</td>\n      <td>Etobicoke\\n</td>\n      <td>Mimico NW / The Queensway West / South of Bloo...</td>\n    </tr>\n  </tbody>\n</table>\n<p>103 rows \u00d7 3 columns</p>\n</div>"
                    },
                    "metadata": {}
                }
            ]
        },
        {
            "metadata": {},
            "cell_type": "code",
            "source": "",
            "execution_count": null,
            "outputs": []
        }
    ],
    "metadata": {
        "kernelspec": {
            "name": "python3",
            "display_name": "Python 3.6",
            "language": "python"
        },
        "language_info": {
            "name": "python",
            "version": "3.6.9",
            "mimetype": "text/x-python",
            "codemirror_mode": {
                "name": "ipython",
                "version": 3
            },
            "pygments_lexer": "ipython3",
            "nbconvert_exporter": "python",
            "file_extension": ".py"
        }
    },
    "nbformat": 4,
    "nbformat_minor": 1
}